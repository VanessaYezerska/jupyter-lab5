{
 "cells": [
  {
   "cell_type": "code",
   "execution_count": null,
   "id": "90a96dcf-54b9-44e7-9ad0-a99eb58c574c",
   "metadata": {},
   "outputs": [],
   "source": [
    "## 🇬🇭 **Гана**\n",
    "\n",
    "### Загальна інформація\n",
    "\n",
    "<div style=\"border:2px solid green; padding:10px\">\n",
    "<b>Гана</b> — країна у <i>Західній Африці</i>, відома своєю \n",
    "<span style=\"color:green\"><b>багатою культурною спадщиною</b></span> та \n",
    "<span style=\"color:blue\"><i>історичними пам'ятками</i></span>.\n",
    "</div>\n",
    "\n",
    "---\n",
    "\n",
    "### 📊 Основні дані\n",
    "\n",
    "| Показник            | Значення         |\n",
    "|---------------------|------------------|\n",
    "| **Площа**           | 238,535 км²      |\n",
    "| **Населення**       | ~34 мільйони     |\n",
    "| **Столиця**         | Аккра            |\n",
    "| **Форма правління** | Президентська республіка |\n",
    "\n",
    "---\n",
    "\n",
    "### 🌍 Визначні місця\n",
    "\n",
    "- **Замок Кейп-Кост**\n",
    "- **Національний парк Какум**\n",
    "- **Озеро Босумтві**\n",
    "  - Найбільше природне озеро Гани\n",
    "  - Утворене метеоритним кратером\n",
    "- **Ашантійський палац**\n",
    "  - Історичне місце королів Ашанті\n",
    "\n",
    "---\n",
    "\n",
    "### 👨‍🎓 Відомі особистості\n",
    "\n",
    "1. **Кваме Нкрума** — *перший президент незалежної Гани*\n",
    "2. **Кофі Аннан** — *Генеральний секретар ООН (1997–2006)*\n",
    "3. **Азуму Нельсон** — *легендарний боксер Гани*\n",
    "\n",
    "---\n",
    "\n",
    "### 🖼 Зображення\n",
    "\n",
    "#### Національний парк Какум:\n",
    "![Какум](https://upload.wikimedia.org/wikipedia/commons/1/10/Kakum_National_Park_-_Ghana.jpg)\n",
    "\n",
    "#### Озеро Босумтві:\n",
    "![Озеро Босумтві](https://upload.wikimedia.org/wikipedia/commons/f/f5/Lake_Bosumtwi_1.jpg)\n",
    "\n",
    "---\n",
    "\n",
    "### 🔗 Гіперпосилання\n",
    "\n",
    "- [Офіційний туристичний сайт Гани](https://visitghana.com/)\n",
    "- [Гана в Wikipedia](https://uk.wikipedia.org/wiki/Гана)\n",
    "\n",
    "---\n",
    "\n",
    "### 🏳 Прапор Гани (SVG)\n",
    "\n",
    "<svg width=\"300\" height=\"180\">\n",
    "  <rect width=\"300\" height=\"60\" fill=\"red\" />\n",
    "  <rect y=\"60\" width=\"300\" height=\"60\" fill=\"yellow\" />\n",
    "  <rect y=\"120\" width=\"300\" height=\"60\" fill=\"green\" />\n",
    "  <polygon points=\"150,90 140,120 170,100 130,100 160,120\" fill=\"black\"/>\n",
    "</svg>\n"
   ]
  },
  {
   "cell_type": "markdown",
   "id": "2c4c3d15-559e-4d57-8f3e-78338b346414",
   "metadata": {},
   "source": []
  },
  {
   "cell_type": "markdown",
   "id": "b73c6716-3803-4cf6-b43a-49848ae0b33a",
   "metadata": {},
   "source": []
  },
  {
   "cell_type": "markdown",
   "id": "ddfb6239-5cb3-4b3b-a19a-eb9daa763754",
   "metadata": {
    "editable": true,
    "slideshow": {
     "slide_type": ""
    },
    "tags": []
   },
   "source": []
  }
 ],
 "metadata": {
  "kernelspec": {
   "display_name": "Python 3 (ipykernel)",
   "language": "python",
   "name": "python3"
  },
  "language_info": {
   "codemirror_mode": {
    "name": "ipython",
    "version": 3
   },
   "file_extension": ".py",
   "mimetype": "text/x-python",
   "name": "python",
   "nbconvert_exporter": "python",
   "pygments_lexer": "ipython3",
   "version": "3.13.2"
  }
 },
 "nbformat": 4,
 "nbformat_minor": 5
}
